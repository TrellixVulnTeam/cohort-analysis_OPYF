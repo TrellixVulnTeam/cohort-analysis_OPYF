{
 "cells": [
  {
   "cell_type": "markdown",
   "id": "1b1d5040",
   "metadata": {},
   "source": [
    "The objective is to create a dashboard using plotly library dash.plotly.com that contains one chart and one filter.<br>\n",
    "<br>\n",
    "Use this dataset https://www.kaggle.com/carrie1/ecommerce-data<br>\n",
    "Build a cohort analysis chart (something similar to whatever in this blog https://clevertap.com/blog/cohort-analysis/)<br>\n",
    "Add a country filter to the dashboard<br>\n",
    "Deploy the app and make it accessible<br>\n",
    "<br>\n",
    "Bonus (you don’t have to do it):<br>\n",
    "Dockerize your application<br>\n",
    "Use https for your deployment (you can use let’s encrypt)<br>"
   ]
  },
  {
   "cell_type": "code",
   "execution_count": 272,
   "id": "376dd36b",
   "metadata": {},
   "outputs": [],
   "source": [
    "import pandas as pd \n",
    "import datetime as dt "
   ]
  },
  {
   "cell_type": "code",
   "execution_count": 273,
   "id": "cb4317a6",
   "metadata": {},
   "outputs": [],
   "source": [
    "data = pd.read_csv('data/data.csv', delimiter=',', encoding = \"ISO-8859-1\")"
   ]
  },
  {
   "cell_type": "code",
   "execution_count": 274,
   "id": "97a4fbcd",
   "metadata": {},
   "outputs": [
    {
     "data": {
      "text/html": [
       "<div>\n",
       "<style scoped>\n",
       "    .dataframe tbody tr th:only-of-type {\n",
       "        vertical-align: middle;\n",
       "    }\n",
       "\n",
       "    .dataframe tbody tr th {\n",
       "        vertical-align: top;\n",
       "    }\n",
       "\n",
       "    .dataframe thead th {\n",
       "        text-align: right;\n",
       "    }\n",
       "</style>\n",
       "<table border=\"1\" class=\"dataframe\">\n",
       "  <thead>\n",
       "    <tr style=\"text-align: right;\">\n",
       "      <th></th>\n",
       "      <th>InvoiceNo</th>\n",
       "      <th>StockCode</th>\n",
       "      <th>Description</th>\n",
       "      <th>Quantity</th>\n",
       "      <th>InvoiceDate</th>\n",
       "      <th>UnitPrice</th>\n",
       "      <th>CustomerID</th>\n",
       "      <th>Country</th>\n",
       "    </tr>\n",
       "  </thead>\n",
       "  <tbody>\n",
       "    <tr>\n",
       "      <th>0</th>\n",
       "      <td>536365</td>\n",
       "      <td>85123A</td>\n",
       "      <td>WHITE HANGING HEART T-LIGHT HOLDER</td>\n",
       "      <td>6</td>\n",
       "      <td>12/1/2010 8:26</td>\n",
       "      <td>2.55</td>\n",
       "      <td>17850.0</td>\n",
       "      <td>United Kingdom</td>\n",
       "    </tr>\n",
       "    <tr>\n",
       "      <th>1</th>\n",
       "      <td>536365</td>\n",
       "      <td>71053</td>\n",
       "      <td>WHITE METAL LANTERN</td>\n",
       "      <td>6</td>\n",
       "      <td>12/1/2010 8:26</td>\n",
       "      <td>3.39</td>\n",
       "      <td>17850.0</td>\n",
       "      <td>United Kingdom</td>\n",
       "    </tr>\n",
       "    <tr>\n",
       "      <th>2</th>\n",
       "      <td>536365</td>\n",
       "      <td>84406B</td>\n",
       "      <td>CREAM CUPID HEARTS COAT HANGER</td>\n",
       "      <td>8</td>\n",
       "      <td>12/1/2010 8:26</td>\n",
       "      <td>2.75</td>\n",
       "      <td>17850.0</td>\n",
       "      <td>United Kingdom</td>\n",
       "    </tr>\n",
       "    <tr>\n",
       "      <th>3</th>\n",
       "      <td>536365</td>\n",
       "      <td>84029G</td>\n",
       "      <td>KNITTED UNION FLAG HOT WATER BOTTLE</td>\n",
       "      <td>6</td>\n",
       "      <td>12/1/2010 8:26</td>\n",
       "      <td>3.39</td>\n",
       "      <td>17850.0</td>\n",
       "      <td>United Kingdom</td>\n",
       "    </tr>\n",
       "    <tr>\n",
       "      <th>4</th>\n",
       "      <td>536365</td>\n",
       "      <td>84029E</td>\n",
       "      <td>RED WOOLLY HOTTIE WHITE HEART.</td>\n",
       "      <td>6</td>\n",
       "      <td>12/1/2010 8:26</td>\n",
       "      <td>3.39</td>\n",
       "      <td>17850.0</td>\n",
       "      <td>United Kingdom</td>\n",
       "    </tr>\n",
       "  </tbody>\n",
       "</table>\n",
       "</div>"
      ],
      "text/plain": [
       "  InvoiceNo StockCode                          Description  Quantity  \\\n",
       "0    536365    85123A   WHITE HANGING HEART T-LIGHT HOLDER         6   \n",
       "1    536365     71053                  WHITE METAL LANTERN         6   \n",
       "2    536365    84406B       CREAM CUPID HEARTS COAT HANGER         8   \n",
       "3    536365    84029G  KNITTED UNION FLAG HOT WATER BOTTLE         6   \n",
       "4    536365    84029E       RED WOOLLY HOTTIE WHITE HEART.         6   \n",
       "\n",
       "      InvoiceDate  UnitPrice  CustomerID         Country  \n",
       "0  12/1/2010 8:26       2.55     17850.0  United Kingdom  \n",
       "1  12/1/2010 8:26       3.39     17850.0  United Kingdom  \n",
       "2  12/1/2010 8:26       2.75     17850.0  United Kingdom  \n",
       "3  12/1/2010 8:26       3.39     17850.0  United Kingdom  \n",
       "4  12/1/2010 8:26       3.39     17850.0  United Kingdom  "
      ]
     },
     "execution_count": 274,
     "metadata": {},
     "output_type": "execute_result"
    }
   ],
   "source": [
    "data.head()"
   ]
  },
  {
   "cell_type": "markdown",
   "id": "09761fd6",
   "metadata": {},
   "source": [
    "# Data cleaning"
   ]
  },
  {
   "cell_type": "code",
   "execution_count": 275,
   "id": "091e6f00",
   "metadata": {},
   "outputs": [
    {
     "data": {
      "text/plain": [
       "CustomerID     135080\n",
       "Description      1454\n",
       "InvoiceNo           0\n",
       "StockCode           0\n",
       "Quantity            0\n",
       "InvoiceDate         0\n",
       "UnitPrice           0\n",
       "Country             0\n",
       "dtype: int64"
      ]
     },
     "execution_count": 275,
     "metadata": {},
     "output_type": "execute_result"
    }
   ],
   "source": [
    "data.isnull().sum().sort_values(ascending=False)"
   ]
  },
  {
   "cell_type": "markdown",
   "id": "c3b05f63",
   "metadata": {},
   "source": [
    "Drop unnecessary columns and null values"
   ]
  },
  {
   "cell_type": "code",
   "execution_count": 276,
   "id": "513def67",
   "metadata": {},
   "outputs": [],
   "source": [
    "data = data.drop(['InvoiceNo', 'StockCode', 'Description'], axis=1)\n",
    "data = data.dropna() "
   ]
  },
  {
   "cell_type": "code",
   "execution_count": 277,
   "id": "69f211d6",
   "metadata": {},
   "outputs": [
    {
     "name": "stdout",
     "output_type": "stream",
     "text": [
      "Range Quantity \t\t: -80995  to  80995\n",
      "Range UnitPrice \t: 0.0  to  38970.0\n"
     ]
    }
   ],
   "source": [
    "print(\"Range Quantity \\t\\t:\", data.Quantity.min(), \" to \", data.Quantity.max()) \n",
    "print(\"Range UnitPrice \\t:\", data.UnitPrice.min(), \" to \", data.UnitPrice.max()) "
   ]
  },
  {
   "cell_type": "markdown",
   "id": "9b31f5ec",
   "metadata": {},
   "source": [
    "Remove negative value in Quantity, UnitPrice columns"
   ]
  },
  {
   "cell_type": "code",
   "execution_count": 278,
   "id": "6ae95917",
   "metadata": {},
   "outputs": [],
   "source": [
    "data = data[data.Quantity > 0] \n",
    "data = data[data.UnitPrice > 0]"
   ]
  },
  {
   "cell_type": "code",
   "execution_count": 279,
   "id": "b80a048a",
   "metadata": {},
   "outputs": [
    {
     "data": {
      "text/html": [
       "<div>\n",
       "<style scoped>\n",
       "    .dataframe tbody tr th:only-of-type {\n",
       "        vertical-align: middle;\n",
       "    }\n",
       "\n",
       "    .dataframe tbody tr th {\n",
       "        vertical-align: top;\n",
       "    }\n",
       "\n",
       "    .dataframe thead th {\n",
       "        text-align: right;\n",
       "    }\n",
       "</style>\n",
       "<table border=\"1\" class=\"dataframe\">\n",
       "  <thead>\n",
       "    <tr style=\"text-align: right;\">\n",
       "      <th></th>\n",
       "      <th>Quantity</th>\n",
       "      <th>InvoiceDate</th>\n",
       "      <th>UnitPrice</th>\n",
       "      <th>CustomerID</th>\n",
       "      <th>Country</th>\n",
       "    </tr>\n",
       "  </thead>\n",
       "  <tbody>\n",
       "    <tr>\n",
       "      <th>0</th>\n",
       "      <td>6</td>\n",
       "      <td>12/1/2010 8:26</td>\n",
       "      <td>2.55</td>\n",
       "      <td>17850.0</td>\n",
       "      <td>United Kingdom</td>\n",
       "    </tr>\n",
       "    <tr>\n",
       "      <th>1</th>\n",
       "      <td>6</td>\n",
       "      <td>12/1/2010 8:26</td>\n",
       "      <td>3.39</td>\n",
       "      <td>17850.0</td>\n",
       "      <td>United Kingdom</td>\n",
       "    </tr>\n",
       "    <tr>\n",
       "      <th>2</th>\n",
       "      <td>8</td>\n",
       "      <td>12/1/2010 8:26</td>\n",
       "      <td>2.75</td>\n",
       "      <td>17850.0</td>\n",
       "      <td>United Kingdom</td>\n",
       "    </tr>\n",
       "    <tr>\n",
       "      <th>3</th>\n",
       "      <td>6</td>\n",
       "      <td>12/1/2010 8:26</td>\n",
       "      <td>3.39</td>\n",
       "      <td>17850.0</td>\n",
       "      <td>United Kingdom</td>\n",
       "    </tr>\n",
       "    <tr>\n",
       "      <th>4</th>\n",
       "      <td>6</td>\n",
       "      <td>12/1/2010 8:26</td>\n",
       "      <td>3.39</td>\n",
       "      <td>17850.0</td>\n",
       "      <td>United Kingdom</td>\n",
       "    </tr>\n",
       "  </tbody>\n",
       "</table>\n",
       "</div>"
      ],
      "text/plain": [
       "   Quantity     InvoiceDate  UnitPrice  CustomerID         Country\n",
       "0         6  12/1/2010 8:26       2.55     17850.0  United Kingdom\n",
       "1         6  12/1/2010 8:26       3.39     17850.0  United Kingdom\n",
       "2         8  12/1/2010 8:26       2.75     17850.0  United Kingdom\n",
       "3         6  12/1/2010 8:26       3.39     17850.0  United Kingdom\n",
       "4         6  12/1/2010 8:26       3.39     17850.0  United Kingdom"
      ]
     },
     "execution_count": 279,
     "metadata": {},
     "output_type": "execute_result"
    }
   ],
   "source": [
    "data.head()"
   ]
  },
  {
   "cell_type": "code",
   "execution_count": 280,
   "id": "b724738e",
   "metadata": {},
   "outputs": [
    {
     "data": {
      "text/plain": [
       "Quantity       0\n",
       "InvoiceDate    0\n",
       "UnitPrice      0\n",
       "CustomerID     0\n",
       "Country        0\n",
       "dtype: int64"
      ]
     },
     "execution_count": 280,
     "metadata": {},
     "output_type": "execute_result"
    }
   ],
   "source": [
    "data.isnull().sum().sort_values(ascending=False)"
   ]
  },
  {
   "cell_type": "markdown",
   "id": "f4a4dc6c",
   "metadata": {},
   "source": [
    "convert InvoiceDate to Date data type"
   ]
  },
  {
   "cell_type": "code",
   "execution_count": 281,
   "id": "c4539e37",
   "metadata": {},
   "outputs": [],
   "source": [
    "data['InvoiceDate'] = pd.to_datetime(data['InvoiceDate'], format='%m/%d/%Y %H:%M')"
   ]
  },
  {
   "cell_type": "code",
   "execution_count": 282,
   "id": "4983b08d",
   "metadata": {},
   "outputs": [],
   "source": [
    "# remove the time from InvoiceDate\n",
    "data['InvoiceDate'] = data['InvoiceDate'].dt.date"
   ]
  },
  {
   "cell_type": "code",
   "execution_count": 283,
   "id": "1af5efa6",
   "metadata": {},
   "outputs": [
    {
     "data": {
      "text/html": [
       "<div>\n",
       "<style scoped>\n",
       "    .dataframe tbody tr th:only-of-type {\n",
       "        vertical-align: middle;\n",
       "    }\n",
       "\n",
       "    .dataframe tbody tr th {\n",
       "        vertical-align: top;\n",
       "    }\n",
       "\n",
       "    .dataframe thead th {\n",
       "        text-align: right;\n",
       "    }\n",
       "</style>\n",
       "<table border=\"1\" class=\"dataframe\">\n",
       "  <thead>\n",
       "    <tr style=\"text-align: right;\">\n",
       "      <th></th>\n",
       "      <th>Quantity</th>\n",
       "      <th>InvoiceDate</th>\n",
       "      <th>UnitPrice</th>\n",
       "      <th>CustomerID</th>\n",
       "      <th>Country</th>\n",
       "    </tr>\n",
       "  </thead>\n",
       "  <tbody>\n",
       "    <tr>\n",
       "      <th>0</th>\n",
       "      <td>6</td>\n",
       "      <td>2010-12-01</td>\n",
       "      <td>2.55</td>\n",
       "      <td>17850.0</td>\n",
       "      <td>United Kingdom</td>\n",
       "    </tr>\n",
       "    <tr>\n",
       "      <th>1</th>\n",
       "      <td>6</td>\n",
       "      <td>2010-12-01</td>\n",
       "      <td>3.39</td>\n",
       "      <td>17850.0</td>\n",
       "      <td>United Kingdom</td>\n",
       "    </tr>\n",
       "    <tr>\n",
       "      <th>2</th>\n",
       "      <td>8</td>\n",
       "      <td>2010-12-01</td>\n",
       "      <td>2.75</td>\n",
       "      <td>17850.0</td>\n",
       "      <td>United Kingdom</td>\n",
       "    </tr>\n",
       "    <tr>\n",
       "      <th>3</th>\n",
       "      <td>6</td>\n",
       "      <td>2010-12-01</td>\n",
       "      <td>3.39</td>\n",
       "      <td>17850.0</td>\n",
       "      <td>United Kingdom</td>\n",
       "    </tr>\n",
       "    <tr>\n",
       "      <th>4</th>\n",
       "      <td>6</td>\n",
       "      <td>2010-12-01</td>\n",
       "      <td>3.39</td>\n",
       "      <td>17850.0</td>\n",
       "      <td>United Kingdom</td>\n",
       "    </tr>\n",
       "  </tbody>\n",
       "</table>\n",
       "</div>"
      ],
      "text/plain": [
       "   Quantity InvoiceDate  UnitPrice  CustomerID         Country\n",
       "0         6  2010-12-01       2.55     17850.0  United Kingdom\n",
       "1         6  2010-12-01       3.39     17850.0  United Kingdom\n",
       "2         8  2010-12-01       2.75     17850.0  United Kingdom\n",
       "3         6  2010-12-01       3.39     17850.0  United Kingdom\n",
       "4         6  2010-12-01       3.39     17850.0  United Kingdom"
      ]
     },
     "execution_count": 283,
     "metadata": {},
     "output_type": "execute_result"
    }
   ],
   "source": [
    "cleaned_data = data.copy()\n",
    "cleaned_data.head()"
   ]
  },
  {
   "cell_type": "markdown",
   "id": "35e7a5c4",
   "metadata": {},
   "source": [
    "# Cohort Analysis"
   ]
  },
  {
   "cell_type": "code",
   "execution_count": 284,
   "id": "ed61cb02",
   "metadata": {},
   "outputs": [],
   "source": [
    "# Create the Cohort\n",
    "def get_month(x): return dt.datetime(x.year, x.month, 1)\n",
    "cleaned_data['InvoiceMonth'] = cleaned_data['InvoiceDate'].apply(get_month)# Create InvoiceMonth column\n",
    "grouping = cleaned_data.groupby('CustomerID')['InvoiceMonth']# Group by CustomerID and select the InvoiceDay value\n",
    "cleaned_data['CohortMonth'] = grouping.transform('min')# Assign a minimum InvoiceDay value to the dataset"
   ]
  },
  {
   "cell_type": "code",
   "execution_count": 285,
   "id": "92afe0fd",
   "metadata": {},
   "outputs": [],
   "source": [
    "#Extract integer values from data\n",
    "def get_date_int(df, column):\n",
    "    year = df[column].dt.year\n",
    "    month = df[column].dt.month\n",
    "    day = df[column].dt.day\n",
    "    return year, month, day"
   ]
  },
  {
   "cell_type": "code",
   "execution_count": 286,
   "id": "5490469e",
   "metadata": {},
   "outputs": [],
   "source": [
    "invoice_year, invoice_month, _ = get_date_int(cleaned_data, 'InvoiceMonth')# Get the integers for date parts from the `InvoiceMonth` column\n",
    "cohort_year, cohort_month, _ = get_date_int(cleaned_data, 'CohortMonth')# Get the integers for date parts from the `CohortMonth` column"
   ]
  },
  {
   "cell_type": "code",
   "execution_count": 287,
   "id": "7fc3d715",
   "metadata": {},
   "outputs": [],
   "source": [
    "years_diff = invoice_year - cohort_year # Calculate difference in years\n",
    "months_diff = invoice_month - cohort_month # Calculate difference in months"
   ]
  },
  {
   "cell_type": "code",
   "execution_count": 288,
   "id": "21edbc72",
   "metadata": {},
   "outputs": [],
   "source": [
    "cleaned_data['CohortIndex'] = years_diff * 12 + months_diff + 1 # Extract the difference in months from all previous values"
   ]
  },
  {
   "cell_type": "markdown",
   "id": "243d8c13",
   "metadata": {},
   "source": [
    "# Dash"
   ]
  },
  {
   "cell_type": "code",
   "execution_count": 289,
   "id": "a2b60022",
   "metadata": {},
   "outputs": [],
   "source": [
    "from dash import Dash, dcc, html, Input, Output\n",
    "import plotly.express as px\n",
    "import plotly.graph_objects as go"
   ]
  },
  {
   "cell_type": "code",
   "execution_count": 290,
   "id": "79fee105",
   "metadata": {},
   "outputs": [],
   "source": [
    "app = Dash(__name__)"
   ]
  },
  {
   "cell_type": "code",
   "execution_count": 291,
   "id": "82619553",
   "metadata": {},
   "outputs": [],
   "source": [
    "server = app.server"
   ]
  },
  {
   "cell_type": "code",
   "execution_count": 292,
   "id": "86449b6a",
   "metadata": {},
   "outputs": [],
   "source": [
    "countries = cleaned_data['Country'].unique()"
   ]
  },
  {
   "cell_type": "code",
   "execution_count": 293,
   "id": "389d1668",
   "metadata": {},
   "outputs": [],
   "source": [
    "# App layout\n",
    "app.layout = html.Div([\n",
    "    html.H1(\"cohort analysis Dashboards with Dash\", style={'text-align': 'center'}),\n",
    "    dcc.Dropdown(\n",
    "        id=\"slct_country\",\n",
    "        options=[{'label': i, 'value': i} for i in countries],\n",
    "        multi=False,\n",
    "        value=countries[0],\n",
    "        style={'width': \"40%\", 'align': 'center'}\n",
    "        ),\n",
    "    dcc.Graph(id='my_heatmap'),\n",
    "])"
   ]
  },
  {
   "cell_type": "code",
   "execution_count": 294,
   "id": "39386bcf",
   "metadata": {},
   "outputs": [],
   "source": [
    "# Connect the Plotly graphs with Dash Components\n",
    "@app.callback(\n",
    "    Output('my_heatmap', 'figure'),\n",
    "    Input('slct_country', 'value')\n",
    ")\n",
    "\n",
    "def update_graph(option_slctd):\n",
    "    country_choosen_data = cleaned_data[cleaned_data['Country'] == option_slctd]\n",
    "    \n",
    "    ## count monthly active customers from each cohort\n",
    "    grouping = country_choosen_data.groupby(['CohortMonth', 'CohortIndex'])\n",
    "    cohort_data = grouping['CustomerID'].apply(pd.Series.nunique)#Count the number of unique values per customer ID\n",
    "    cohort_data = cohort_data.reset_index()\n",
    "    cohort_counts = cohort_data.pivot(index='CohortMonth', columns='CohortIndex', values='CustomerID')\n",
    "\n",
    "    # Retention Rate\n",
    "    cohort_sizes = cohort_counts.iloc[:,0]#divide each column by value of the first(cohort sizes) to find retention rate\n",
    "    retention = cohort_counts.divide(cohort_sizes, axis=0)\n",
    "    retention.round(2) * 100\n",
    "    \n",
    "    fig = px.imshow(retention, text_auto='.0%', color_continuous_scale='Blues', zmax=0.5, zmin=0.0)\n",
    "\n",
    "    return fig"
   ]
  },
  {
   "cell_type": "code",
   "execution_count": null,
   "id": "5163c6bf",
   "metadata": {},
   "outputs": [
    {
     "name": "stdout",
     "output_type": "stream",
     "text": [
      "Dash is running on http://127.0.0.1:8050/\n",
      "\n",
      "Dash is running on http://127.0.0.1:8050/\n",
      "\n",
      "Dash is running on http://127.0.0.1:8050/\n",
      "\n",
      "Dash is running on http://127.0.0.1:8050/\n",
      "\n",
      "Dash is running on http://127.0.0.1:8050/\n",
      "\n",
      "Dash is running on http://127.0.0.1:8050/\n",
      "\n",
      "Dash is running on http://127.0.0.1:8050/\n",
      "\n",
      "Dash is running on http://127.0.0.1:8050/\n",
      "\n",
      "Dash is running on http://127.0.0.1:8050/\n",
      "\n",
      "Dash is running on http://127.0.0.1:8050/\n",
      "\n",
      "Dash is running on http://127.0.0.1:8050/\n",
      "\n",
      "Dash is running on http://127.0.0.1:8050/\n",
      "\n",
      "Dash is running on http://127.0.0.1:8050/\n",
      "\n",
      "Dash is running on http://127.0.0.1:8050/\n",
      "\n",
      "Dash is running on http://127.0.0.1:8050/\n",
      "\n",
      "Dash is running on http://127.0.0.1:8050/\n",
      "\n",
      "Dash is running on http://127.0.0.1:8050/\n",
      "\n",
      "Dash is running on http://127.0.0.1:8050/\n",
      "\n",
      "Dash is running on http://127.0.0.1:8050/\n",
      "\n",
      "Dash is running on http://127.0.0.1:8050/\n",
      "\n",
      "Dash is running on http://127.0.0.1:8050/\n",
      "\n",
      "Dash is running on http://127.0.0.1:8050/\n",
      "\n",
      "Dash is running on http://127.0.0.1:8050/\n",
      "\n",
      "Dash is running on http://127.0.0.1:8050/\n",
      "\n",
      "Dash is running on http://127.0.0.1:8050/\n",
      "\n",
      "Dash is running on http://127.0.0.1:8050/\n",
      "\n",
      "Dash is running on http://127.0.0.1:8050/\n",
      "\n",
      "Dash is running on http://127.0.0.1:8050/\n",
      "\n",
      "Dash is running on http://127.0.0.1:8050/\n",
      "\n",
      "Dash is running on http://127.0.0.1:8050/\n",
      "\n",
      "Dash is running on http://127.0.0.1:8050/\n",
      "\n",
      "Dash is running on http://127.0.0.1:8050/\n",
      "\n",
      "Dash is running on http://127.0.0.1:8050/\n",
      "\n",
      " * Serving Flask app '__main__' (lazy loading)\n",
      " * Environment: production\n",
      "\u001b[31m   WARNING: This is a development server. Do not use it in a production deployment.\u001b[0m\n",
      "\u001b[2m   Use a production WSGI server instead.\u001b[0m\n",
      " * Debug mode: off\n"
     ]
    },
    {
     "name": "stderr",
     "output_type": "stream",
     "text": [
      " * Running on http://127.0.0.1:8050 (Press CTRL+C to quit)\n",
      "127.0.0.1 - - [09/Jun/2022 15:41:22] \"GET / HTTP/1.1\" 200 -\n",
      "127.0.0.1 - - [09/Jun/2022 15:41:22] \"\u001b[36mGET /_dash-component-suites/dash/dcc/async-graph.js HTTP/1.1\u001b[0m\" 304 -\n",
      "127.0.0.1 - - [09/Jun/2022 15:41:22] \"\u001b[36mGET /_dash-component-suites/dash/dcc/async-dropdown.js HTTP/1.1\u001b[0m\" 304 -\n",
      "127.0.0.1 - - [09/Jun/2022 15:41:22] \"\u001b[36mGET /_dash-component-suites/dash/dcc/async-plotlyjs.js HTTP/1.1\u001b[0m\" 304 -\n",
      "127.0.0.1 - - [09/Jun/2022 15:41:22] \"GET /_dash-layout HTTP/1.1\" 200 -\n",
      "127.0.0.1 - - [09/Jun/2022 15:41:22] \"GET /_dash-dependencies HTTP/1.1\" 200 -\n",
      "127.0.0.1 - - [09/Jun/2022 15:41:23] \"POST /_dash-update-component HTTP/1.1\" 200 -\n"
     ]
    }
   ],
   "source": [
    "if __name__ == '__main__':\n",
    "    app.run_server(debug=False)"
   ]
  },
  {
   "cell_type": "code",
   "execution_count": null,
   "id": "c8821a02",
   "metadata": {},
   "outputs": [],
   "source": []
  }
 ],
 "metadata": {
  "kernelspec": {
   "display_name": "Python 3 (ipykernel)",
   "language": "python",
   "name": "python3"
  },
  "language_info": {
   "codemirror_mode": {
    "name": "ipython",
    "version": 3
   },
   "file_extension": ".py",
   "mimetype": "text/x-python",
   "name": "python",
   "nbconvert_exporter": "python",
   "pygments_lexer": "ipython3",
   "version": "3.10.5"
  }
 },
 "nbformat": 4,
 "nbformat_minor": 5
}
